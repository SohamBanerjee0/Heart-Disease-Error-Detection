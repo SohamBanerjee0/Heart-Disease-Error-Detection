{
  "nbformat": 4,
  "nbformat_minor": 0,
  "metadata": {
    "colab": {
      "name": "HeartDisease.ipynb",
      "provenance": []
    },
    "kernelspec": {
      "name": "python3",
      "display_name": "Python 3"
    },
    "language_info": {
      "name": "python"
    }
  },
  "cells": [
    {
      "cell_type": "markdown",
      "source": [
        "IMPORTING THE DEPENDENCIES"
      ],
      "metadata": {
        "id": "FpYJradMFikz"
      }
    },
    {
      "cell_type": "code",
      "execution_count": 149,
      "metadata": {
        "id": "7-jpv0iM1UTS"
      },
      "outputs": [],
      "source": [
        "import numpy as np\n",
        "import pandas as pd\n",
        "from sklearn.model_selection import train_test_split\n",
        "from sklearn import metrics\n",
        "from xgboost import XGBRegressor\n",
        "from sklearn import svm\n",
        "import matplotlib.pyplot as pit\n",
        "from sklearn.neighbors import KNeighborsClassifier\n",
        "from sklearn.ensemble import RandomForestClassifier\n",
        "from sklearn.tree import DecisionTreeClassifier\n"
      ]
    },
    {
      "cell_type": "markdown",
      "source": [
        "DATA COLLECTION"
      ],
      "metadata": {
        "id": "Wf79SA4EFbyM"
      }
    },
    {
      "cell_type": "code",
      "source": [
        "heart_data = pd.read_csv('/content/heart.csv')"
      ],
      "metadata": {
        "id": "FkT7DWLB5J44"
      },
      "execution_count": 150,
      "outputs": []
    },
    {
      "cell_type": "markdown",
      "source": [
        "DATA PROCESSING"
      ],
      "metadata": {
        "id": "N2eyls5YFgCC"
      }
    },
    {
      "cell_type": "code",
      "source": [
        "heart_data.shape\n"
      ],
      "metadata": {
        "colab": {
          "base_uri": "https://localhost:8080/"
        },
        "id": "7MczuyiL61tp",
        "outputId": "8cc0e7f9-92d6-4e89-f024-344afddf4ebb"
      },
      "execution_count": 151,
      "outputs": [
        {
          "output_type": "execute_result",
          "data": {
            "text/plain": [
              "(303, 14)"
            ]
          },
          "metadata": {},
          "execution_count": 151
        }
      ]
    },
    {
      "cell_type": "code",
      "source": [
        "heart_data.describe()"
      ],
      "metadata": {
        "colab": {
          "base_uri": "https://localhost:8080/",
          "height": 320
        },
        "id": "2vpq7n_A7Gnn",
        "outputId": "6204cbb1-efeb-44eb-ec7f-1cf0489009e3"
      },
      "execution_count": 152,
      "outputs": [
        {
          "output_type": "execute_result",
          "data": {
            "text/html": [
              "<div>\n",
              "<style scoped>\n",
              "    .dataframe tbody tr th:only-of-type {\n",
              "        vertical-align: middle;\n",
              "    }\n",
              "\n",
              "    .dataframe tbody tr th {\n",
              "        vertical-align: top;\n",
              "    }\n",
              "\n",
              "    .dataframe thead th {\n",
              "        text-align: right;\n",
              "    }\n",
              "</style>\n",
              "<table border=\"1\" class=\"dataframe\">\n",
              "  <thead>\n",
              "    <tr style=\"text-align: right;\">\n",
              "      <th></th>\n",
              "      <th>age</th>\n",
              "      <th>sex</th>\n",
              "      <th>cp</th>\n",
              "      <th>trestbps</th>\n",
              "      <th>chol</th>\n",
              "      <th>fbs</th>\n",
              "      <th>restecg</th>\n",
              "      <th>thalach</th>\n",
              "      <th>exang</th>\n",
              "      <th>oldpeak</th>\n",
              "      <th>slope</th>\n",
              "      <th>ca</th>\n",
              "      <th>thal</th>\n",
              "      <th>target</th>\n",
              "    </tr>\n",
              "  </thead>\n",
              "  <tbody>\n",
              "    <tr>\n",
              "      <th>count</th>\n",
              "      <td>303.000000</td>\n",
              "      <td>303.000000</td>\n",
              "      <td>303.000000</td>\n",
              "      <td>303.000000</td>\n",
              "      <td>303.000000</td>\n",
              "      <td>303.000000</td>\n",
              "      <td>303.000000</td>\n",
              "      <td>303.000000</td>\n",
              "      <td>303.000000</td>\n",
              "      <td>303.000000</td>\n",
              "      <td>303.000000</td>\n",
              "      <td>303.000000</td>\n",
              "      <td>303.000000</td>\n",
              "      <td>303.000000</td>\n",
              "    </tr>\n",
              "    <tr>\n",
              "      <th>mean</th>\n",
              "      <td>54.366337</td>\n",
              "      <td>0.683168</td>\n",
              "      <td>0.966997</td>\n",
              "      <td>131.623762</td>\n",
              "      <td>246.264026</td>\n",
              "      <td>0.148515</td>\n",
              "      <td>0.528053</td>\n",
              "      <td>149.646865</td>\n",
              "      <td>0.326733</td>\n",
              "      <td>1.039604</td>\n",
              "      <td>1.399340</td>\n",
              "      <td>0.729373</td>\n",
              "      <td>2.313531</td>\n",
              "      <td>0.544554</td>\n",
              "    </tr>\n",
              "    <tr>\n",
              "      <th>std</th>\n",
              "      <td>9.082101</td>\n",
              "      <td>0.466011</td>\n",
              "      <td>1.032052</td>\n",
              "      <td>17.538143</td>\n",
              "      <td>51.830751</td>\n",
              "      <td>0.356198</td>\n",
              "      <td>0.525860</td>\n",
              "      <td>22.905161</td>\n",
              "      <td>0.469794</td>\n",
              "      <td>1.161075</td>\n",
              "      <td>0.616226</td>\n",
              "      <td>1.022606</td>\n",
              "      <td>0.612277</td>\n",
              "      <td>0.498835</td>\n",
              "    </tr>\n",
              "    <tr>\n",
              "      <th>min</th>\n",
              "      <td>29.000000</td>\n",
              "      <td>0.000000</td>\n",
              "      <td>0.000000</td>\n",
              "      <td>94.000000</td>\n",
              "      <td>126.000000</td>\n",
              "      <td>0.000000</td>\n",
              "      <td>0.000000</td>\n",
              "      <td>71.000000</td>\n",
              "      <td>0.000000</td>\n",
              "      <td>0.000000</td>\n",
              "      <td>0.000000</td>\n",
              "      <td>0.000000</td>\n",
              "      <td>0.000000</td>\n",
              "      <td>0.000000</td>\n",
              "    </tr>\n",
              "    <tr>\n",
              "      <th>25%</th>\n",
              "      <td>47.500000</td>\n",
              "      <td>0.000000</td>\n",
              "      <td>0.000000</td>\n",
              "      <td>120.000000</td>\n",
              "      <td>211.000000</td>\n",
              "      <td>0.000000</td>\n",
              "      <td>0.000000</td>\n",
              "      <td>133.500000</td>\n",
              "      <td>0.000000</td>\n",
              "      <td>0.000000</td>\n",
              "      <td>1.000000</td>\n",
              "      <td>0.000000</td>\n",
              "      <td>2.000000</td>\n",
              "      <td>0.000000</td>\n",
              "    </tr>\n",
              "    <tr>\n",
              "      <th>50%</th>\n",
              "      <td>55.000000</td>\n",
              "      <td>1.000000</td>\n",
              "      <td>1.000000</td>\n",
              "      <td>130.000000</td>\n",
              "      <td>240.000000</td>\n",
              "      <td>0.000000</td>\n",
              "      <td>1.000000</td>\n",
              "      <td>153.000000</td>\n",
              "      <td>0.000000</td>\n",
              "      <td>0.800000</td>\n",
              "      <td>1.000000</td>\n",
              "      <td>0.000000</td>\n",
              "      <td>2.000000</td>\n",
              "      <td>1.000000</td>\n",
              "    </tr>\n",
              "    <tr>\n",
              "      <th>75%</th>\n",
              "      <td>61.000000</td>\n",
              "      <td>1.000000</td>\n",
              "      <td>2.000000</td>\n",
              "      <td>140.000000</td>\n",
              "      <td>274.500000</td>\n",
              "      <td>0.000000</td>\n",
              "      <td>1.000000</td>\n",
              "      <td>166.000000</td>\n",
              "      <td>1.000000</td>\n",
              "      <td>1.600000</td>\n",
              "      <td>2.000000</td>\n",
              "      <td>1.000000</td>\n",
              "      <td>3.000000</td>\n",
              "      <td>1.000000</td>\n",
              "    </tr>\n",
              "    <tr>\n",
              "      <th>max</th>\n",
              "      <td>77.000000</td>\n",
              "      <td>1.000000</td>\n",
              "      <td>3.000000</td>\n",
              "      <td>200.000000</td>\n",
              "      <td>564.000000</td>\n",
              "      <td>1.000000</td>\n",
              "      <td>2.000000</td>\n",
              "      <td>202.000000</td>\n",
              "      <td>1.000000</td>\n",
              "      <td>6.200000</td>\n",
              "      <td>2.000000</td>\n",
              "      <td>4.000000</td>\n",
              "      <td>3.000000</td>\n",
              "      <td>1.000000</td>\n",
              "    </tr>\n",
              "  </tbody>\n",
              "</table>\n",
              "</div>"
            ],
            "text/plain": [
              "              age         sex          cp  ...          ca        thal      target\n",
              "count  303.000000  303.000000  303.000000  ...  303.000000  303.000000  303.000000\n",
              "mean    54.366337    0.683168    0.966997  ...    0.729373    2.313531    0.544554\n",
              "std      9.082101    0.466011    1.032052  ...    1.022606    0.612277    0.498835\n",
              "min     29.000000    0.000000    0.000000  ...    0.000000    0.000000    0.000000\n",
              "25%     47.500000    0.000000    0.000000  ...    0.000000    2.000000    0.000000\n",
              "50%     55.000000    1.000000    1.000000  ...    0.000000    2.000000    1.000000\n",
              "75%     61.000000    1.000000    2.000000  ...    1.000000    3.000000    1.000000\n",
              "max     77.000000    1.000000    3.000000  ...    4.000000    3.000000    1.000000\n",
              "\n",
              "[8 rows x 14 columns]"
            ]
          },
          "metadata": {},
          "execution_count": 152
        }
      ]
    },
    {
      "cell_type": "code",
      "source": [
        "heart_data.head()"
      ],
      "metadata": {
        "colab": {
          "base_uri": "https://localhost:8080/",
          "height": 206
        },
        "id": "xNjXZJQJ7KK2",
        "outputId": "5849a7f9-d691-4d94-b645-b9011ab202dc"
      },
      "execution_count": 153,
      "outputs": [
        {
          "output_type": "execute_result",
          "data": {
            "text/html": [
              "<div>\n",
              "<style scoped>\n",
              "    .dataframe tbody tr th:only-of-type {\n",
              "        vertical-align: middle;\n",
              "    }\n",
              "\n",
              "    .dataframe tbody tr th {\n",
              "        vertical-align: top;\n",
              "    }\n",
              "\n",
              "    .dataframe thead th {\n",
              "        text-align: right;\n",
              "    }\n",
              "</style>\n",
              "<table border=\"1\" class=\"dataframe\">\n",
              "  <thead>\n",
              "    <tr style=\"text-align: right;\">\n",
              "      <th></th>\n",
              "      <th>age</th>\n",
              "      <th>sex</th>\n",
              "      <th>cp</th>\n",
              "      <th>trestbps</th>\n",
              "      <th>chol</th>\n",
              "      <th>fbs</th>\n",
              "      <th>restecg</th>\n",
              "      <th>thalach</th>\n",
              "      <th>exang</th>\n",
              "      <th>oldpeak</th>\n",
              "      <th>slope</th>\n",
              "      <th>ca</th>\n",
              "      <th>thal</th>\n",
              "      <th>target</th>\n",
              "    </tr>\n",
              "  </thead>\n",
              "  <tbody>\n",
              "    <tr>\n",
              "      <th>0</th>\n",
              "      <td>63</td>\n",
              "      <td>1</td>\n",
              "      <td>3</td>\n",
              "      <td>145</td>\n",
              "      <td>233</td>\n",
              "      <td>1</td>\n",
              "      <td>0</td>\n",
              "      <td>150</td>\n",
              "      <td>0</td>\n",
              "      <td>2.3</td>\n",
              "      <td>0</td>\n",
              "      <td>0</td>\n",
              "      <td>1</td>\n",
              "      <td>1</td>\n",
              "    </tr>\n",
              "    <tr>\n",
              "      <th>1</th>\n",
              "      <td>37</td>\n",
              "      <td>1</td>\n",
              "      <td>2</td>\n",
              "      <td>130</td>\n",
              "      <td>250</td>\n",
              "      <td>0</td>\n",
              "      <td>1</td>\n",
              "      <td>187</td>\n",
              "      <td>0</td>\n",
              "      <td>3.5</td>\n",
              "      <td>0</td>\n",
              "      <td>0</td>\n",
              "      <td>2</td>\n",
              "      <td>1</td>\n",
              "    </tr>\n",
              "    <tr>\n",
              "      <th>2</th>\n",
              "      <td>41</td>\n",
              "      <td>0</td>\n",
              "      <td>1</td>\n",
              "      <td>130</td>\n",
              "      <td>204</td>\n",
              "      <td>0</td>\n",
              "      <td>0</td>\n",
              "      <td>172</td>\n",
              "      <td>0</td>\n",
              "      <td>1.4</td>\n",
              "      <td>2</td>\n",
              "      <td>0</td>\n",
              "      <td>2</td>\n",
              "      <td>1</td>\n",
              "    </tr>\n",
              "    <tr>\n",
              "      <th>3</th>\n",
              "      <td>56</td>\n",
              "      <td>1</td>\n",
              "      <td>1</td>\n",
              "      <td>120</td>\n",
              "      <td>236</td>\n",
              "      <td>0</td>\n",
              "      <td>1</td>\n",
              "      <td>178</td>\n",
              "      <td>0</td>\n",
              "      <td>0.8</td>\n",
              "      <td>2</td>\n",
              "      <td>0</td>\n",
              "      <td>2</td>\n",
              "      <td>1</td>\n",
              "    </tr>\n",
              "    <tr>\n",
              "      <th>4</th>\n",
              "      <td>57</td>\n",
              "      <td>0</td>\n",
              "      <td>0</td>\n",
              "      <td>120</td>\n",
              "      <td>354</td>\n",
              "      <td>0</td>\n",
              "      <td>1</td>\n",
              "      <td>163</td>\n",
              "      <td>1</td>\n",
              "      <td>0.6</td>\n",
              "      <td>2</td>\n",
              "      <td>0</td>\n",
              "      <td>2</td>\n",
              "      <td>1</td>\n",
              "    </tr>\n",
              "  </tbody>\n",
              "</table>\n",
              "</div>"
            ],
            "text/plain": [
              "   age  sex  cp  trestbps  chol  fbs  ...  exang  oldpeak  slope  ca  thal  target\n",
              "0   63    1   3       145   233    1  ...      0      2.3      0   0     1       1\n",
              "1   37    1   2       130   250    0  ...      0      3.5      0   0     2       1\n",
              "2   41    0   1       130   204    0  ...      0      1.4      2   0     2       1\n",
              "3   56    1   1       120   236    0  ...      0      0.8      2   0     2       1\n",
              "4   57    0   0       120   354    0  ...      1      0.6      2   0     2       1\n",
              "\n",
              "[5 rows x 14 columns]"
            ]
          },
          "metadata": {},
          "execution_count": 153
        }
      ]
    },
    {
      "cell_type": "code",
      "source": [
        "heart_data.isnull().sum()"
      ],
      "metadata": {
        "colab": {
          "base_uri": "https://localhost:8080/"
        },
        "id": "cAgnHoUM7N22",
        "outputId": "95dfe655-7f2c-4431-e1de-9a399691ad61"
      },
      "execution_count": 154,
      "outputs": [
        {
          "output_type": "execute_result",
          "data": {
            "text/plain": [
              "age         0\n",
              "sex         0\n",
              "cp          0\n",
              "trestbps    0\n",
              "chol        0\n",
              "fbs         0\n",
              "restecg     0\n",
              "thalach     0\n",
              "exang       0\n",
              "oldpeak     0\n",
              "slope       0\n",
              "ca          0\n",
              "thal        0\n",
              "target      0\n",
              "dtype: int64"
            ]
          },
          "metadata": {},
          "execution_count": 154
        }
      ]
    },
    {
      "cell_type": "code",
      "source": [
        "heart_data.value_counts('target')"
      ],
      "metadata": {
        "colab": {
          "base_uri": "https://localhost:8080/"
        },
        "id": "zA7PitSQ7VmR",
        "outputId": "07f7fbe8-4424-4835-fa51-95b41af8023b"
      },
      "execution_count": 155,
      "outputs": [
        {
          "output_type": "execute_result",
          "data": {
            "text/plain": [
              "target\n",
              "1    165\n",
              "0    138\n",
              "dtype: int64"
            ]
          },
          "metadata": {},
          "execution_count": 155
        }
      ]
    },
    {
      "cell_type": "code",
      "source": [
        "X=heart_data.drop(columns = 'target',axis=1)\n",
        "Y=heart_data['target']\n",
        "print(X)\n",
        "print(Y)\n"
      ],
      "metadata": {
        "colab": {
          "base_uri": "https://localhost:8080/"
        },
        "id": "dNYE8pBu7e-t",
        "outputId": "82e25a1b-1f5e-42be-9b0e-78618bf3a7b1"
      },
      "execution_count": 156,
      "outputs": [
        {
          "output_type": "stream",
          "name": "stdout",
          "text": [
            "     age  sex  cp  trestbps  chol  ...  exang  oldpeak  slope  ca  thal\n",
            "0     63    1   3       145   233  ...      0      2.3      0   0     1\n",
            "1     37    1   2       130   250  ...      0      3.5      0   0     2\n",
            "2     41    0   1       130   204  ...      0      1.4      2   0     2\n",
            "3     56    1   1       120   236  ...      0      0.8      2   0     2\n",
            "4     57    0   0       120   354  ...      1      0.6      2   0     2\n",
            "..   ...  ...  ..       ...   ...  ...    ...      ...    ...  ..   ...\n",
            "298   57    0   0       140   241  ...      1      0.2      1   0     3\n",
            "299   45    1   3       110   264  ...      0      1.2      1   0     3\n",
            "300   68    1   0       144   193  ...      0      3.4      1   2     3\n",
            "301   57    1   0       130   131  ...      1      1.2      1   1     3\n",
            "302   57    0   1       130   236  ...      0      0.0      1   1     2\n",
            "\n",
            "[303 rows x 13 columns]\n",
            "0      1\n",
            "1      1\n",
            "2      1\n",
            "3      1\n",
            "4      1\n",
            "      ..\n",
            "298    0\n",
            "299    0\n",
            "300    0\n",
            "301    0\n",
            "302    0\n",
            "Name: target, Length: 303, dtype: int64\n"
          ]
        }
      ]
    },
    {
      "cell_type": "markdown",
      "source": [
        "SPLITTING TRAINING AND TEST DATA"
      ],
      "metadata": {
        "id": "x393PMhPFShj"
      }
    },
    {
      "cell_type": "code",
      "source": [
        "X_train, X_test, Y_train, Y_test= train_test_split(X, Y, test_size=0.2,stratify=Y,random_state=2)"
      ],
      "metadata": {
        "id": "CPUrl6A38Inj"
      },
      "execution_count": 157,
      "outputs": []
    },
    {
      "cell_type": "markdown",
      "source": [
        "CREATING THE MODELS"
      ],
      "metadata": {
        "id": "bWdUQS2KFOaj"
      }
    },
    {
      "cell_type": "code",
      "source": [
        "classifier1=svm.SVC(kernel='linear')\n",
        "model1=XGBRegressor()\n",
        "classifier2=KNeighborsClassifier(n_neighbors=5)\n",
        "classifier3=RandomForestClassifier()\n",
        "classifier4=DecisionTreeClassifier()"
      ],
      "metadata": {
        "id": "ChIrnqoF_lnw"
      },
      "execution_count": 158,
      "outputs": []
    },
    {
      "cell_type": "markdown",
      "source": [
        "TRAINING THE MODELS"
      ],
      "metadata": {
        "id": "RXL75DmZFIOh"
      }
    },
    {
      "cell_type": "code",
      "source": [
        "classifier1.fit(X_train, Y_train)\n",
        "model1.fit(X_train, Y_train)\n",
        "classifier2.fit(X_train, Y_train)\n",
        "classifier3.fit(X_train, Y_train)\n",
        "classifier4.fit(X_train, Y_train)"
      ],
      "metadata": {
        "colab": {
          "base_uri": "https://localhost:8080/"
        },
        "id": "fb34OIK0AJuW",
        "outputId": "c0bdff41-bd07-4313-980a-8dd4abbf9543"
      },
      "execution_count": 159,
      "outputs": [
        {
          "output_type": "stream",
          "name": "stdout",
          "text": [
            "[19:29:41] WARNING: /workspace/src/objective/regression_obj.cu:152: reg:linear is now deprecated in favor of reg:squarederror.\n"
          ]
        },
        {
          "output_type": "execute_result",
          "data": {
            "text/plain": [
              "DecisionTreeClassifier()"
            ]
          },
          "metadata": {},
          "execution_count": 159
        }
      ]
    },
    {
      "cell_type": "markdown",
      "source": [
        "PREDICTION ON TRAINING DATA"
      ],
      "metadata": {
        "id": "OzVGprAWFC4t"
      }
    },
    {
      "cell_type": "code",
      "source": [
        "pred1=classifier1.predict(X_train)\n",
        "pred2=model1.predict(X_train)\n",
        "pred3=classifier2.predict(X_train)\n",
        "pred4=classifier3.predict(X_train)\n",
        "pred5=classifier4.predict(X_train)\n",
        "\n",
        "print(pred1)\n",
        "print(pred2)\n",
        "print(pred3)\n",
        "print(pred4)\n",
        "print(pred5)"
      ],
      "metadata": {
        "colab": {
          "base_uri": "https://localhost:8080/"
        },
        "id": "cbwrTJoRA82q",
        "outputId": "ebda79a9-a08f-46e0-827b-3ddf8a8f621f"
      },
      "execution_count": 160,
      "outputs": [
        {
          "output_type": "stream",
          "name": "stdout",
          "text": [
            "[1 0 1 0 0 1 1 1 1 1 1 1 1 1 1 1 1 0 0 1 0 1 1 1 1 1 1 0 0 0 1 0 1 1 0 1 0\n",
            " 1 0 0 0 1 0 0 1 1 0 1 0 1 1 1 0 0 1 0 1 0 1 1 1 1 1 0 1 1 0 1 1 1 1 0 0 1\n",
            " 1 0 0 1 0 1 0 0 1 1 0 0 1 1 1 1 0 1 0 0 1 0 0 1 0 0 1 1 1 0 0 1 0 1 1 0 1\n",
            " 1 0 1 1 0 1 1 0 0 1 0 0 0 0 1 1 1 1 0 1 0 1 1 1 1 0 0 1 1 1 1 1 1 0 0 0 0\n",
            " 0 1 0 1 1 0 1 1 1 1 1 0 1 1 0 0 1 0 1 1 1 1 1 0 1 1 1 0 0 1 1 1 1 1 1 0 1\n",
            " 1 1 0 1 1 0 0 1 0 1 1 0 1 0 1 1 0 1 0 1 0 1 1 0 1 1 1 1 1 1 1 1 0 0 0 1 0\n",
            " 1 0 1 0 1 1 1 1 1 1 0 0 1 1 1 1 1 0 1 1]\n",
            "[ 8.33415687e-01  7.50861764e-02  9.26348269e-01  7.76528358e-01\n",
            "  5.77376187e-02  2.46837527e-01  9.87644553e-01  7.52784967e-01\n",
            "  3.57277691e-01  4.29343522e-01  1.02948117e+00  3.94466519e-01\n",
            "  5.42457044e-01  9.85276341e-01  9.53248322e-01  8.26362312e-01\n",
            "  9.22326446e-01 -4.95702028e-03  4.74900723e-01  1.04304504e+00\n",
            "  1.18894428e-01  1.02098346e+00  1.00426555e+00  8.25843871e-01\n",
            "  5.96432149e-01  9.82106924e-01  8.86833906e-01  8.08457971e-01\n",
            "  1.86147690e-02  6.62765205e-02  8.99726629e-01  3.59722972e-03\n",
            "  9.45894480e-01  8.67247701e-01 -7.58159161e-03  9.43942547e-01\n",
            "  2.78060734e-02  9.59901810e-01 -1.31496191e-02 -4.64280844e-02\n",
            "  1.30671680e-01  9.85276341e-01 -9.61309671e-02 -2.74318457e-03\n",
            "  9.10194159e-01  9.31256056e-01 -5.33339381e-02  9.34130549e-01\n",
            " -3.41925025e-02  4.24814969e-01  6.46098077e-01  9.81618524e-01\n",
            "  9.97497737e-02 -1.40579939e-02  1.03964996e+00  6.75975084e-02\n",
            "  8.21040034e-01  1.51680708e-01  9.92822886e-01  7.84676611e-01\n",
            "  8.39102805e-01  9.86865640e-01  1.00791186e-01  2.22329468e-01\n",
            "  9.96832728e-01  9.81725931e-01 -2.83365846e-02  9.45542812e-01\n",
            "  9.41079617e-01  9.83578920e-01  1.01121402e+00  4.71833646e-02\n",
            "  2.11832821e-02  2.24867493e-01  9.14075017e-01  6.17491901e-02\n",
            " -6.63858652e-03  9.98797774e-01  2.89829254e-01  8.92343283e-01\n",
            "  2.67070830e-02 -4.61939573e-02  4.83868688e-01  9.21021938e-01\n",
            "  2.18755186e-01 -2.21559405e-02  1.01147377e+00  9.57762480e-01\n",
            "  8.48953247e-01  9.37419295e-01  2.24575251e-01  9.56985950e-01\n",
            "  8.84771347e-03 -4.54127789e-04  1.00576878e+00  4.94302213e-02\n",
            " -8.60294700e-02  5.28116345e-01  3.19532752e-02  1.17213100e-01\n",
            "  9.05779541e-01  8.98085117e-01  1.04348946e+00 -7.84025788e-02\n",
            "  1.03336632e-01  8.92219067e-01 -2.72343755e-02  9.30382073e-01\n",
            "  9.64011192e-01  8.85800421e-02  1.02592587e+00  8.28119397e-01\n",
            "  3.05083394e-02  9.60796237e-01  3.36878717e-01  5.34119248e-01\n",
            "  6.75606728e-01  8.65427434e-01  3.82888913e-02  6.14100695e-01\n",
            "  9.79087174e-01  8.67563248e-01  3.03479910e-01  3.01986933e-04\n",
            " -6.94704652e-02  9.16059732e-01  7.74351835e-01  9.82205808e-01\n",
            "  3.24957609e-01  8.80360007e-02  9.11867797e-01  1.32858545e-01\n",
            "  2.15844244e-01  9.47768509e-01  1.00929546e+00  9.35645998e-01\n",
            "  6.49576485e-02  1.17099792e-01  3.41926813e-01  1.57163322e-01\n",
            "  8.13087761e-01  8.76510859e-01  8.43528926e-01  4.07593936e-01\n",
            " -4.07146215e-02 -5.27768731e-02  9.16541815e-02 -5.20999432e-02\n",
            "  2.27894187e-02  1.74556851e-01  7.00902939e-02  1.05434740e+00\n",
            "  9.43060994e-01  4.05791700e-02  9.34107184e-01  9.00269985e-01\n",
            "  8.86467874e-01  1.05740809e+00  9.93420601e-01  1.79454744e-01\n",
            "  8.29194605e-01  9.54452872e-01 -7.29541779e-02 -3.51771712e-02\n",
            "  8.97017181e-01  9.01768804e-02  9.99358296e-01  1.04653430e+00\n",
            "  2.96520889e-02  8.48431468e-01  9.87027764e-01  6.63877130e-02\n",
            "  9.76863742e-01  1.03389359e+00  8.60243201e-01  9.02874470e-02\n",
            "  4.18013334e-03  3.53363931e-01  9.44858193e-01  6.96999609e-01\n",
            "  9.82140779e-01  7.84267306e-01  2.65351593e-01  1.49426162e-02\n",
            "  9.38755393e-01  7.56649733e-01  1.07387424e+00  7.34794736e-02\n",
            "  8.14171791e-01  7.95859456e-01 -1.43498182e-03  1.25107974e-01\n",
            "  9.98004377e-01  1.19746238e-01  2.76480794e-01  1.01242924e+00\n",
            "  2.03237832e-02  7.66094863e-01 -3.23975682e-02  7.91532993e-01\n",
            "  4.65632021e-01  6.21058643e-01  9.58694637e-01 -8.15370679e-02\n",
            "  9.59691346e-01  6.06458783e-02  9.58281696e-01  9.22365308e-01\n",
            " -5.98301291e-02  9.06118989e-01  6.96086049e-01  1.01148856e+00\n",
            "  4.05633003e-01  9.98042405e-01  8.34767163e-01  9.52913105e-01\n",
            "  2.90786177e-01  3.55407000e-02  6.89776838e-02 -7.03212619e-02\n",
            "  1.03681922e+00  8.33798170e-01  9.95240986e-01  3.87091339e-02\n",
            "  6.17785335e-01 -2.91246176e-03  9.77392793e-01  4.74320173e-01\n",
            "  1.01594520e+00  9.34960008e-01  1.02234197e+00  4.83483672e-01\n",
            "  7.22983181e-02  1.30874217e-02  1.05580282e+00  8.04242134e-01\n",
            "  9.62687552e-01  8.52607489e-01  9.73810434e-01  4.21311855e-02\n",
            "  2.27562398e-01  9.94918704e-01]\n",
            "[1 0 1 0 0 0 1 1 1 0 1 0 1 1 1 1 1 0 1 1 1 1 1 1 1 1 1 0 0 1 1 0 1 1 0 1 0\n",
            " 1 0 0 1 1 0 1 1 1 0 1 0 0 0 0 0 0 1 0 1 0 1 0 1 1 1 0 0 1 0 1 1 1 1 0 0 0\n",
            " 1 1 0 1 1 1 0 0 0 0 0 0 1 1 1 1 0 0 0 0 1 0 1 1 0 0 1 0 1 0 0 0 0 1 1 0 1\n",
            " 1 1 1 1 0 1 0 0 1 1 1 0 0 0 1 0 1 0 0 1 0 1 0 1 1 0 1 1 1 1 1 1 0 1 0 0 0\n",
            " 0 0 0 1 1 0 1 1 1 1 1 1 1 1 0 0 1 0 1 1 0 1 1 0 0 1 0 0 0 1 1 1 1 1 0 0 1\n",
            " 1 1 0 1 1 0 1 1 0 0 1 1 1 1 1 0 1 0 0 1 0 0 1 0 0 0 1 1 1 0 0 1 0 1 0 1 1\n",
            " 1 1 1 1 1 0 1 1 1 1 0 0 1 0 0 1 1 0 0 1]\n",
            "[1 0 1 1 0 0 1 1 0 0 1 0 1 1 1 1 1 0 1 1 0 1 1 1 1 1 1 1 0 0 1 0 1 1 0 1 0\n",
            " 1 0 0 0 1 0 0 1 1 0 1 0 0 1 1 0 0 1 0 1 0 1 1 1 1 0 0 1 1 0 1 1 1 1 0 0 0\n",
            " 1 0 0 1 0 1 0 0 0 1 0 0 1 1 1 1 0 1 0 0 1 0 0 0 0 0 1 1 1 0 0 1 0 1 1 0 1\n",
            " 1 0 1 0 1 1 1 0 1 1 1 0 0 0 1 1 1 0 0 1 0 0 1 1 1 0 0 0 0 1 1 1 0 0 0 0 0\n",
            " 0 0 0 1 1 0 1 1 1 1 1 0 1 1 0 0 1 0 1 1 0 1 1 0 1 1 1 0 0 0 1 1 1 1 0 0 1\n",
            " 1 1 0 1 1 0 0 1 0 0 1 0 1 0 1 0 1 1 0 1 0 1 1 0 1 1 1 0 1 1 1 0 0 0 0 1 1\n",
            " 1 0 0 0 1 0 1 1 1 0 0 0 1 1 1 1 1 0 0 1]\n",
            "[1 0 1 1 0 0 1 1 0 0 1 0 1 1 1 1 1 0 1 1 0 1 1 1 1 1 1 1 0 0 1 0 1 1 0 1 0\n",
            " 1 0 0 0 1 0 0 1 1 0 1 0 0 1 1 0 0 1 0 1 0 1 1 1 1 0 0 1 1 0 1 1 1 1 0 0 0\n",
            " 1 0 0 1 0 1 0 0 0 1 0 0 1 1 1 1 0 1 0 0 1 0 0 0 0 0 1 1 1 0 0 1 0 1 1 0 1\n",
            " 1 0 1 0 1 1 1 0 1 1 1 0 0 0 1 1 1 0 0 1 0 0 1 1 1 0 0 0 0 1 1 1 0 0 0 0 0\n",
            " 0 0 0 1 1 0 1 1 1 1 1 0 1 1 0 0 1 0 1 1 0 1 1 0 1 1 1 0 0 0 1 1 1 1 0 0 1\n",
            " 1 1 0 1 1 0 0 1 0 0 1 0 1 0 1 0 1 1 0 1 0 1 1 0 1 1 1 0 1 1 1 0 0 0 0 1 1\n",
            " 1 0 0 0 1 0 1 1 1 0 0 0 1 1 1 1 1 0 0 1]\n"
          ]
        }
      ]
    },
    {
      "cell_type": "markdown",
      "source": [
        "PREDICTION ON TESTING DATA"
      ],
      "metadata": {
        "id": "pn4SOghGE7E0"
      }
    },
    {
      "cell_type": "code",
      "source": [
        "tpred1=classifier1.predict(X_test)\n",
        "tpred2=model1.predict(X_test)\n",
        "tpred3=classifier2.predict(X_test)\n",
        "tpred4=classifier3.predict(X_test)\n",
        "tpred5=classifier4.predict(X_test)\n",
        "\n",
        "print(tpred1)\n",
        "print(tpred2)\n",
        "print(tpred3)\n",
        "print(tpred4)\n",
        "print(tpred5)"
      ],
      "metadata": {
        "colab": {
          "base_uri": "https://localhost:8080/"
        },
        "id": "ciG60THUBUhp",
        "outputId": "9de97fa0-440e-4610-fd4c-275e4ba45ec2"
      },
      "execution_count": 161,
      "outputs": [
        {
          "output_type": "stream",
          "name": "stdout",
          "text": [
            "[0 1 1 0 1 1 0 0 1 1 1 0 0 0 1 1 0 1 0 1 1 1 1 1 0 0 0 0 1 0 1 1 1 0 0 0 1\n",
            " 0 0 1 1 1 1 1 1 1 1 0 1 0 0 1 0 1 1 1 0 0 1 1 1]\n",
            "[-0.06101644  1.0176382   0.5744883   0.01128724  1.0869814   1.0435996\n",
            "  0.0458318  -0.14517266  0.6398717   0.8810258   0.8742389   0.34801328\n",
            "  0.0081664   0.7076986   1.0255628   0.81465924  0.08104572  0.83765787\n",
            "  0.29093888  0.9957405   0.6804589   0.6298521   0.8002666   0.53105307\n",
            "  0.31951064  0.43205503  0.17931229 -0.12428927  0.8952918   0.25898987\n",
            "  0.74269086  0.7624026   0.38108686  0.85831696  0.08722046 -0.0245955\n",
            "  0.7286361   0.03893346 -0.08521408  0.39466536  0.1399275   0.62501067\n",
            "  0.43317488  0.73192275  0.56868327  0.6751323   1.0091249  -0.04208988\n",
            "  0.9561242   0.69220126  0.03643662  0.41340664  0.10111222  0.9032141\n",
            "  0.18356109  0.5521892   0.24468914 -0.1463921   0.6552691   0.9674\n",
            "  0.9157077 ]\n",
            "[0 1 1 0 1 0 0 0 1 0 1 1 0 1 1 0 0 1 1 1 1 0 0 1 0 0 0 1 1 0 1 1 0 0 0 0 1\n",
            " 1 0 1 1 1 1 0 1 1 1 0 1 1 0 0 0 1 1 0 1 0 1 1 1]\n",
            "[0 1 1 0 1 1 0 0 1 1 1 0 0 1 1 1 0 1 0 1 1 1 1 1 0 0 0 0 1 0 1 1 1 1 0 0 1\n",
            " 0 0 1 0 1 0 1 0 1 1 0 1 0 0 1 0 1 0 0 0 0 1 1 1]\n",
            "[0 1 1 0 1 1 0 0 1 1 1 1 0 1 1 1 0 0 0 1 1 1 1 1 1 1 0 0 1 0 0 1 1 1 0 0 1\n",
            " 0 0 1 0 0 0 1 1 1 1 0 1 1 0 1 0 1 0 0 1 0 1 1 1]\n"
          ]
        }
      ]
    },
    {
      "cell_type": "markdown",
      "source": [
        "ERROR CALCULATION"
      ],
      "metadata": {
        "id": "E8vjmGy0E3HW"
      }
    },
    {
      "cell_type": "code",
      "source": [
        "def error_calc(X, Y): \n",
        "  score_1=metrics.r2_score(X, Y)\n",
        "  score_2=metrics.mean_absolute_error(X, Y)\n",
        "  #r2_score=coefficient of determination 0.9+ (best score)\n",
        "  #MSE=lower the better\n",
        "  return score_2\n",
        "  #returns MSE"
      ],
      "metadata": {
        "id": "9Tws2Va1B16_"
      },
      "execution_count": 162,
      "outputs": []
    },
    {
      "cell_type": "code",
      "source": [
        "error1=error_calc(Y_test,tpred1)\n",
        "error2=error_calc(Y_test,tpred2)\n",
        "error3=error_calc(Y_test,tpred3)\n",
        "error4=error_calc(Y_test,tpred4)\n",
        "error5=error_calc(Y_test,tpred5)"
      ],
      "metadata": {
        "id": "1jCCpnJ8DNgQ"
      },
      "execution_count": 163,
      "outputs": []
    },
    {
      "cell_type": "markdown",
      "source": [
        "DISPLAY ERROR OF EACH MODEL"
      ],
      "metadata": {
        "id": "kYk6xCurEwRM"
      }
    },
    {
      "cell_type": "code",
      "source": [
        "print('Error for:')\n",
        "print(\"Support Vector Machine:\",error1)\n",
        "print(\"XGBRegressor:\",error2)\n",
        "print(\"KNN:\",error3)\n",
        "print(\"Random Forest:\",error4)\n",
        "print(\"Decision Tree Classifier:\",error5)"
      ],
      "metadata": {
        "colab": {
          "base_uri": "https://localhost:8080/"
        },
        "id": "T9w6H9NHDqxo",
        "outputId": "67d9ea23-a8ad-46d8-e252-f2dfb95573ce"
      },
      "execution_count": 164,
      "outputs": [
        {
          "output_type": "stream",
          "name": "stdout",
          "text": [
            "Error for:\n",
            "Support Vector Machine: 0.18032786885245902\n",
            "XGBRegressor: 0.31752685591822766\n",
            "KNN: 0.3770491803278688\n",
            "Random Forest: 0.19672131147540983\n",
            "Decision Tree Classifier: 0.2459016393442623\n"
          ]
        }
      ]
    }
  ]
}